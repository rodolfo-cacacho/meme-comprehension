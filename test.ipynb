{
 "cells": [
  {
   "cell_type": "code",
   "execution_count": 6,
   "id": "3ef5b2a7",
   "metadata": {},
   "outputs": [
    {
     "name": "stdout",
     "output_type": "stream",
     "text": [
      "[(1, '3f17e42b-9521-4893-86a8-e016e0e59fd3.jpeg', 'passwords-leaving-my-memory-as-soon-as-create-them.jpeg', 'When a person comes up with a password to meet some requirements and then he quickly forgets. It symbolizes that basically the password dies when you forget it.', 'A cat going up the stairs ', 'One cat is lying on the ground and another one is walking up the stairs', 'One dead cat and another cat walking up some stairs.', '2025-08-01 11:45:21', 'cebf1363-3c9e-46d2-8c52-a518ee167cd7')]\n"
     ]
    }
   ],
   "source": [
    "# loading in modules\n",
    "import sqlite3\n",
    "\n",
    "# creating file path\n",
    "dbfile = 'memes.db'\n",
    "# Create a SQL connection to our SQLite database\n",
    "con = sqlite3.connect(dbfile)\n",
    "\n",
    "# creating cursor\n",
    "cur = con.cursor()\n",
    "\n",
    "# reading all table names\n",
    "table_list = [a for a in cur.execute(\"SELECT name FROM sqlite_master WHERE type = 'table'\")]\n",
    "# here is you table list\n",
    "memes = [a for a in cur.execute(\"SELECT * FROM memes\")]\n",
    "\n",
    "print(memes)\n",
    "\n",
    "# Be sure to close the connection\n",
    "con.close()"
   ]
  }
 ],
 "metadata": {
  "kernelspec": {
   "display_name": "meme-env",
   "language": "python",
   "name": "python3"
  },
  "language_info": {
   "codemirror_mode": {
    "name": "ipython",
    "version": 3
   },
   "file_extension": ".py",
   "mimetype": "text/x-python",
   "name": "python",
   "nbconvert_exporter": "python",
   "pygments_lexer": "ipython3",
   "version": "3.12.11"
  }
 },
 "nbformat": 4,
 "nbformat_minor": 5
}
